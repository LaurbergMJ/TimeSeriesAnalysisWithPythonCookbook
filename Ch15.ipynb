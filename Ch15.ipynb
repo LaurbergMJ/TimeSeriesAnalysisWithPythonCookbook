{
 "cells": [
  {
   "attachments": {},
   "cell_type": "markdown",
   "metadata": {},
   "source": [
    "## Advanced Techniques for Complex Time Series\n",
    "\n",
    "Timeseries data can contain complex seasonality - for example, recorded hourly data can exhibit daily, weekly and yearly seasonal patterns. With the rise of connected devices - IoT and sensors - data is being recorded more frequently. For example, if we examine classical time series datasets used in many research papers, many were smaller sets and recorded less frequently, such as annually or monthly. Such data contains one seasonal pattern. More recent datasets and research now use higher frequency data, recorded in hours or minutes. \n",
    "\n",
    "Here we will explore new algorithms that can model a time series with multiple seasonality for forecasting and decomposing a time series into different components. \n",
    "\n"
   ]
  },
  {
   "cell_type": "code",
   "execution_count": null,
   "metadata": {},
   "outputs": [],
   "source": []
  }
 ],
 "metadata": {
  "language_info": {
   "name": "python"
  },
  "orig_nbformat": 4
 },
 "nbformat": 4,
 "nbformat_minor": 2
}
