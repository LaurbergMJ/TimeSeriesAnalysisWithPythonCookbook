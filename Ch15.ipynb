{
 "cells": [
  {
   "attachments": {},
   "cell_type": "markdown",
   "metadata": {},
   "source": [
    "## Advanced Techniques for Complex Time Series\n",
    "\n",
    "Timeseries data can contain complex seasonality - for example, recorded hourly data can exhibit daily, weekly and yearly seasonal patterns. With the rise of connected devices - IoT and sensors - data is being recorded more frequently. For example, if we examine classical time series datasets used in many research papers, many were smaller sets and recorded less frequently, such as annually or monthly. Such data contains one seasonal pattern. More recent datasets and research now use higher frequency data, recorded in hours or minutes. \n",
    "\n",
    "Here we will explore new algorithms that can model a time series with multiple seasonality for forecasting and decomposing a time series into different components. \n",
    "\n",
    "Here we will explore the following topics:\n",
    "\n",
    "* Decomposing time series with multiple seasonal patterns **MSTL**\n",
    "* Forecasting with multiple seasonal patterns using the **Unobserved Components Model (UCM)**\n",
    "* Forecasting time series with multiple seasonal patterns using **Prophet**\n",
    "* Forecasting time series with multiple seasonal patterns using **NeuralProphet**\n"
   ]
  },
  {
   "cell_type": "code",
   "execution_count": 1,
   "metadata": {},
   "outputs": [],
   "source": [
    "import pandas as pd \n",
    "import numpy as np \n",
    "import matplotlib.pyplot as plt \n",
    "from pathlib import Path\n",
    "from statsmodels.tools.eval_measures import rmse, rmspe \n",
    "import warnings \n",
    "warnings.filterwarnings('ignore')\n"
   ]
  },
  {
   "cell_type": "code",
   "execution_count": 2,
   "metadata": {},
   "outputs": [],
   "source": [
    "folder = Path('../TimeSeriesAnalysisWithPythonCookbook/Data/AEP_hourly.csv')\n",
    "\n",
    "df = pd.read_csv(folder, index_col='Datetime', parse_dates=True)"
   ]
  },
  {
   "cell_type": "code",
   "execution_count": 3,
   "metadata": {},
   "outputs": [],
   "source": [
    "# Clean up the data \n",
    "\n",
    "df.sort_index(inplace=True)\n",
    "df = df.resample('H').max()\n",
    "df.ffill(inplace=True)"
   ]
  },
  {
   "attachments": {},
   "cell_type": "markdown",
   "metadata": {},
   "source": [
    "## Understanding state-space models\n",
    "\n",
    "**State-Space Models (SSM)**\n",
    "\n",
    "Have their roots in the field of engineering and offer a generic approach to modeling dynamic systems and how they evolve over time. In addition, SSMs are widely used in other fields, such as economics, neuroscience, electrical engineering etc. \n",
    "\n",
    "In time series data, the central idea behind SSMs is that of **latent variables**, also called **states**, which are continous and sequential through time-space domain. For example, in a univariate time series, we have a response variable at time **t**; this is the observed value termed **$Y_{t}$**, which depends on the true variable termed **$X_{t}$**. The **$X_{t}$** variable is the latent variable that we are interested in estimating - which is either **unobserved** or cannot be measured. In state space, we have an underlying state that we cannot measure directly (unobserved). An SSM provides a system of equations to estimate these unobserved states from the observed values and is represented mathematically in a vector-matrix form. In general, there are two equations - a _state equation_ and an _observed equation_. One key aspect of their popularity is their flexibility and ability to work with complex time series data that can be multivariate, non-stationary, non-linear or contain multiple seasonality, gaps or irregularities.\n",
    "\n",
    "In addition, SSMs can be generalized and come in various forms, several of which make use of **Kalman filters**. The benefit of using SSMs in time series data is that they are used in _filtering, smoothing or forecasting_, as we will explore\n",
    "\n",
    "**KALMAN FILTERS**\n",
    "The Kalman filter is an algorithm for extracting signals from data that is either noisy or contains incomplete measurements. The premise behind Kalman filters is that not every state within a system is directly observable; instead, we can estimate the state indirectly, using observations that may be contaminated, incomplete or noisy\n",
    "\n",
    "For example, sensor devices produce time series data known to be incomplete due to interruptions or unreliable due to noise. Kalman filters are excellent when working with time series data containing a considerable signal-to-noise ratio, as they work on smoothing and denoising the data to make it more reliable\n",
    "\n",
    "## Decomposing time series with multiple seasonal patterns using MSTL\n",
    "\n"
   ]
  },
  {
   "cell_type": "code",
   "execution_count": null,
   "metadata": {},
   "outputs": [],
   "source": []
  }
 ],
 "metadata": {
  "kernelspec": {
   "display_name": ".venv",
   "language": "python",
   "name": "python3"
  },
  "language_info": {
   "codemirror_mode": {
    "name": "ipython",
    "version": 3
   },
   "file_extension": ".py",
   "mimetype": "text/x-python",
   "name": "python",
   "nbconvert_exporter": "python",
   "pygments_lexer": "ipython3",
   "version": "3.10.0"
  },
  "orig_nbformat": 4
 },
 "nbformat": 4,
 "nbformat_minor": 2
}
