{
 "cells": [
  {
   "attachments": {},
   "cell_type": "markdown",
   "metadata": {},
   "source": [
    "## Outlier Detection using Supervised Machine Learning \n",
    "\n",
    "Outlier detection is not straightforward, mainly due to the ambiguity surrounding the definition of what an outlier is specific to our data or the problem that we are trying to solve. Having domain knowledge is vital to making the proper judgment when spotting outliers. \n",
    "\n",
    "Most of the ML methods techniques for outlier detection are considered unsupervised outlier detection methods, such as **Isolation Forests (iForest), unsupervised K-Nearest Neighbors (KNN), Local Outlier Factor (LOF) and Copula-Based Outlier Detection (COPOD)** \n",
    "\n",
    "Generally, outliers (or anomalies) are considered a rare occurrence. In other words, we would assume a small fraction of our data are outliers in a large data set. For example, 1% of the data may be potential outliers. However, this complexity requires methods designed to find patterns in the data. Unsupervised outlier detection techniques are great at finding patterns in rare occurrences. \n",
    "\n",
    "After investigating outliers, we will have a historical set of labeled data, allowing us to leverage semi-supervised outlire detection techniques.\n",
    "\n",
    "Here we will introduce the **PyOD** library, described as \"a comprehensive and scalable Python toolkit for detecting outlying objects in multivariate data\". "
   ]
  },
  {
   "cell_type": "code",
   "execution_count": 1,
   "metadata": {},
   "outputs": [],
   "source": [
    "import pyod "
   ]
  },
  {
   "cell_type": "code",
   "execution_count": 2,
   "metadata": {},
   "outputs": [],
   "source": [
    "import pandas as pd \n",
    "import numpy as np \n",
    "import matplotlib.pyplot as plt \n",
    "from pathlib import Path \n",
    "import warnings \n",
    "warnings.filterwarnings('ignore')\n",
    "plt.rcParams[\"figure.figsize\"] = [16,3]\n"
   ]
  },
  {
   "cell_type": "code",
   "execution_count": 3,
   "metadata": {},
   "outputs": [],
   "source": [
    "# load the nyc taxi dataset \n",
    "file = Path(\"../TimeSeriesAnalysisWithPythonCookbook/Data/nyc_taxi.csv\")\n",
    "nyc_taxi = pd.read_csv(file, index_col='timestamp', parse_dates=True)\n",
    "nyc_taxi.index.freq = \"30T\""
   ]
  },
  {
   "cell_type": "code",
   "execution_count": 4,
   "metadata": {},
   "outputs": [],
   "source": [
    "# Store the known dates containing outliers, also known as ground truth labels\n",
    "\n",
    "nyc_dates = [\n",
    "    \"2014-11-01\",\n",
    "    \"2014-11-27\",\n",
    "    \"2014-12-25\",\n",
    "    \"2015-01-01\",\n",
    "    \"2015-01-27\"\n",
    "]\n"
   ]
  },
  {
   "cell_type": "code",
   "execution_count": 5,
   "metadata": {},
   "outputs": [],
   "source": [
    "# Create the plot_outliers function that we will use throughout \n",
    "\n",
    "def plot_outliers(outliers, data, method='KNN', \n",
    "                  halignment = 'right', \n",
    "                  valignment = 'top', \n",
    "                  labels=False):\n",
    "    ax = data.plot(alpha=0.6)\n",
    "\n",
    "    if labels:\n",
    "        for i in outliers['value'].items():\n",
    "            plt.plot(i[0], i[1], 'v', markersize=8, markerfacecolor='none', markeredgecolor='k')\n",
    "            plt.text(i[0], i[1]-(i[1]*0.04), f'{i[0].strftime(\"%m/%d\")}', \n",
    "                     horizontalalignment=halignment, \n",
    "                     verticalalignment=valignment)\n",
    "    \n",
    "    else:\n",
    "        data.loc[outliers.index].plot(ax=ax, style='rX', markersize=9)\n",
    "    \n",
    "    plt.title(f'NYC Taxi - {method}')\n",
    "    plt.xlabel('date')\n",
    "    plt.ylabel('# of passengers')\n",
    "    plt.legend(['nyc taxi', 'outliers'])\n",
    "    plt.show()"
   ]
  },
  {
   "cell_type": "code",
   "execution_count": null,
   "metadata": {},
   "outputs": [],
   "source": []
  }
 ],
 "metadata": {
  "kernelspec": {
   "display_name": ".venv",
   "language": "python",
   "name": "python3"
  },
  "language_info": {
   "codemirror_mode": {
    "name": "ipython",
    "version": 3
   },
   "file_extension": ".py",
   "mimetype": "text/x-python",
   "name": "python",
   "nbconvert_exporter": "python",
   "pygments_lexer": "ipython3",
   "version": "3.10.0"
  },
  "orig_nbformat": 4
 },
 "nbformat": 4,
 "nbformat_minor": 2
}
