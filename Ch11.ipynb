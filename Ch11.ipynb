{
 "cells": [
  {
   "attachments": {},
   "cell_type": "markdown",
   "metadata": {},
   "source": [
    "## Additionally Statistical Modeling Techniques for Time Series "
   ]
  },
  {
   "cell_type": "code",
   "execution_count": 2,
   "metadata": {},
   "outputs": [],
   "source": [
    "import pandas as pd \n",
    "import numpy as np \n",
    "import matplotlib.pyplot as plt \n",
    "from statsmodels.graphics.tsaplots import plot_acf, plot_pacf\n",
    "from statsmodels.tsa.statespace.tools import diff \n",
    "from pathlib import Path \n",
    "import warnings\n",
    "warnings.filterwarnings('ignore')\n",
    "plt.rc(\"figure\", figsize=(16,5))\n"
   ]
  },
  {
   "attachments": {},
   "cell_type": "markdown",
   "metadata": {},
   "source": [
    "## Forecasting time series data using auto_arima\n",
    "\n",
    "* For this part we need to install the package pmdarima\n",
    "    - this package includes auto_arima for automating ARIMA hyperparameter \n",
    "\n",
    "* auto_arima automates the process for finding the optimal parameters. The auto_arima function uses a stepwise algorithm that is faster and more efficient than a full grid search \n",
    "\n",
    "* When stepwise=True, auto_arima performs a stepwise search (default)\n",
    "* With stepwise=False, it performs a brute-force grid search (full search)\n",
    "* With random=True, it performs a random search\n",
    "\n",
    "stepwise is an optimization technique that utilizes grid search more efficiently. This is accomplished using unit root tests and minimizing information criteria (example: AIC and Maximum Likelihood Estimation (MLE))\n",
    "\n",
    "Additionally, auto_arima can handle seasonal and non-seasonal ARIMA models. If seasonal ARIMA is desired, we will need to set seasonal=True for auto_arima to optimize over the (P,D,Q) values\n"
   ]
  },
  {
   "attachments": {},
   "cell_type": "markdown",
   "metadata": {},
   "source": [
    "Here we will be using the milk_production data, and we must remember from earlier that this dataset contains both trend and seasonality, so we will be training a SARIMA model. "
   ]
  },
  {
   "cell_type": "code",
   "execution_count": 3,
   "metadata": {},
   "outputs": [],
   "source": [
    "# import packages and data \n",
    "import pmdarima as pm \n",
    "milk_file = Path('../TimeSeriesAnalysisWithPythonCookbook/Data/milk_production.csv')\n",
    "milk = pd.read_csv(milk_file,\n",
    "                   index_col='month',\n",
    "                   parse_dates=True)"
   ]
  },
  {
   "cell_type": "code",
   "execution_count": 4,
   "metadata": {},
   "outputs": [],
   "source": [
    "# Split the dataset into train and test sets\n",
    "# using standard sci-kit\n",
    "from sklearn.model_selection import train_test_split\n",
    "train, test = train_test_split(milk, test_size=0.10, shuffle=False)"
   ]
  },
  {
   "cell_type": "code",
   "execution_count": 7,
   "metadata": {},
   "outputs": [
    {
     "name": "stdout",
     "output_type": "stream",
     "text": [
      "Train: (151, 1)\n",
      "Test: (17, 1)\n"
     ]
    }
   ],
   "source": [
    "# Same splits using pmdarima\n",
    "train, test = pm.model_selection.train_test_split(milk, test_size=0.10)\n",
    "\n",
    "print(f'Train: {train.shape}')\n",
    "print(f'Test: {test.shape}')"
   ]
  },
  {
   "cell_type": "code",
   "execution_count": null,
   "metadata": {},
   "outputs": [],
   "source": []
  }
 ],
 "metadata": {
  "kernelspec": {
   "display_name": ".venv",
   "language": "python",
   "name": "python3"
  },
  "language_info": {
   "codemirror_mode": {
    "name": "ipython",
    "version": 3
   },
   "file_extension": ".py",
   "mimetype": "text/x-python",
   "name": "python",
   "nbconvert_exporter": "python",
   "pygments_lexer": "ipython3",
   "version": "3.10.0"
  },
  "orig_nbformat": 4
 },
 "nbformat": 4,
 "nbformat_minor": 2
}
