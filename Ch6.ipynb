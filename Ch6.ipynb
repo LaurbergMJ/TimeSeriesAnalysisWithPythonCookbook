{
 "cells": [
  {
   "attachments": {},
   "cell_type": "markdown",
   "metadata": {},
   "source": [
    "## Working with Date and Time in Python "
   ]
  },
  {
   "cell_type": "code",
   "execution_count": 2,
   "metadata": {},
   "outputs": [],
   "source": [
    "import pandas as pd \n",
    "import numpy as np \n",
    "import datetime as dt"
   ]
  },
  {
   "attachments": {},
   "cell_type": "markdown",
   "metadata": {},
   "source": [
    "#### Working with DatetimeIndex"
   ]
  },
  {
   "cell_type": "code",
   "execution_count": 10,
   "metadata": {},
   "outputs": [
    {
     "name": "stdout",
     "output_type": "stream",
     "text": [
      "2021-01-01 00:00:00\n"
     ]
    }
   ],
   "source": [
    "dt1 = dt.datetime(2021, 1, 1)\n",
    "print(dt1) "
   ]
  },
  {
   "cell_type": "code",
   "execution_count": 9,
   "metadata": {},
   "outputs": [
    {
     "name": "stdout",
     "output_type": "stream",
     "text": [
      "2021-01-01 00:00:00\n"
     ]
    }
   ],
   "source": [
    "dt2 = pd.Timestamp('2021-1-1')\n",
    "print(dt2)"
   ]
  },
  {
   "cell_type": "code",
   "execution_count": 8,
   "metadata": {},
   "outputs": [
    {
     "name": "stdout",
     "output_type": "stream",
     "text": [
      "2021-01-01 00:00:00\n"
     ]
    }
   ],
   "source": [
    "dt3 = pd.to_datetime('2021-1-1')\n",
    "print(dt3) "
   ]
  },
  {
   "cell_type": "code",
   "execution_count": 11,
   "metadata": {},
   "outputs": [
    {
     "name": "stdout",
     "output_type": "stream",
     "text": [
      "<class 'datetime.datetime'>\n",
      "<class 'pandas._libs.tslibs.timestamps.Timestamp'>\n",
      "<class 'pandas._libs.tslibs.timestamps.Timestamp'>\n"
     ]
    }
   ],
   "source": [
    "print(type(dt1))\n",
    "print(type(dt2))\n",
    "print(type(dt3))"
   ]
  },
  {
   "cell_type": "code",
   "execution_count": 12,
   "metadata": {},
   "outputs": [
    {
     "data": {
      "text/plain": [
       "True"
      ]
     },
     "execution_count": 12,
     "metadata": {},
     "output_type": "execute_result"
    }
   ],
   "source": [
    "dt1 == dt2 == dt3 "
   ]
  },
  {
   "attachments": {},
   "cell_type": "markdown",
   "metadata": {},
   "source": [
    "Thus, we can see that pandas' Timestamp object is equivalent to Python's Datetime object"
   ]
  },
  {
   "cell_type": "code",
   "execution_count": 13,
   "metadata": {},
   "outputs": [
    {
     "data": {
      "text/plain": [
       "True"
      ]
     },
     "execution_count": 13,
     "metadata": {},
     "output_type": "execute_result"
    }
   ],
   "source": [
    "issubclass(pd.Timestamp, dt.datetime)"
   ]
  },
  {
   "cell_type": "code",
   "execution_count": 16,
   "metadata": {},
   "outputs": [
    {
     "name": "stdout",
     "output_type": "stream",
     "text": [
      "DatetimeIndex(['2021-01-01', '2021-01-02'], dtype='datetime64[ns]', freq=None)\n",
      "<class 'pandas.core.indexes.datetimes.DatetimeIndex'>\n"
     ]
    }
   ],
   "source": [
    "dates = ['2021-1-1', '2021-1-2']\n",
    "pd_dates = pd.to_datetime(dates) \n",
    "print(pd_dates) \n",
    "print(type(pd_dates)) \n"
   ]
  },
  {
   "attachments": {},
   "cell_type": "markdown",
   "metadata": {},
   "source": [
    "Interestingly, the output is now of type DatetimeIndex created using the same pandas.to_datetime() function that we used earlier\n",
    "\n",
    "When using the same funtion on an individual object, the result was of type \"Timestamp\", but when applied on a list, it produced a sequence of type \"DatetimeIndex\"."
   ]
  },
  {
   "cell_type": "code",
   "execution_count": 18,
   "metadata": {},
   "outputs": [
    {
     "name": "stdout",
     "output_type": "stream",
     "text": [
      "2021-01-01 00:00:00\n",
      "<class 'pandas._libs.tslibs.timestamps.Timestamp'>\n"
     ]
    }
   ],
   "source": [
    "print(pd_dates[0])\n",
    "print(type(pd_dates[0]))"
   ]
  },
  {
   "cell_type": "code",
   "execution_count": 21,
   "metadata": {},
   "outputs": [
    {
     "name": "stdout",
     "output_type": "stream",
     "text": [
      "DatetimeIndex(['2021-01-01', '2021-02-01', '2021-03-01', '2021-04-01',\n",
      "               '2021-05-01', '2021-07-01', '2021-08-01', '2021-09-01'],\n",
      "              dtype='datetime64[ns]', freq=None)\n"
     ]
    }
   ],
   "source": [
    "dates = ['2021-01-01',\n",
    "         '2/1/2021',\n",
    "         '03-01-2021',\n",
    "         'April 1, 2021', \n",
    "         '20210501', \n",
    "         np.datetime64('2021-07-01'),\n",
    "         dt.datetime(2021, 8, 1), \n",
    "         pd.Timestamp(2021, 9, 1)]\n",
    "\n",
    "# Parse the list using pandas.to_datetime()\n",
    "parsed_dates = pd.to_datetime(\n",
    "    dates, \n",
    "    infer_datetime_format=True,\n",
    "    errors='coerce'\n",
    ")\n",
    "\n",
    "print(parsed_dates)"
   ]
  },
  {
   "attachments": {},
   "cell_type": "markdown",
   "metadata": {},
   "source": [
    "Notice how the to_datetime() function properly parsed the entire list of different string representations and date types such as Python's Datetime and Numpy's datetime64. \n",
    "\n",
    "Similarly, we could have used the DatetimeIndex constructor directly as:"
   ]
  },
  {
   "cell_type": "code",
   "execution_count": 22,
   "metadata": {},
   "outputs": [
    {
     "data": {
      "text/plain": [
       "DatetimeIndex(['2021-01-01', '2021-02-01', '2021-03-01', '2021-04-01',\n",
       "               '2021-05-01', '2021-07-01', '2021-08-01', '2021-09-01'],\n",
       "              dtype='datetime64[ns]', freq=None)"
      ]
     },
     "execution_count": 22,
     "metadata": {},
     "output_type": "execute_result"
    }
   ],
   "source": [
    "pd.DatetimeIndex(dates)"
   ]
  },
  {
   "attachments": {},
   "cell_type": "markdown",
   "metadata": {},
   "source": [
    "The DatetimeIndex object gives access to many useful properties and methods to extract additional date and time properties. \n",
    "\n",
    "As an example we can we can extract: day_name, month, year, days_in_month, quarter, is_quarter_start, is_leap_year, is_month_start, is_month_end, is_year_start"
   ]
  },
  {
   "cell_type": "code",
   "execution_count": 30,
   "metadata": {},
   "outputs": [
    {
     "name": "stdout",
     "output_type": "stream",
     "text": [
      "Name of Day: Index(['Friday', 'Monday', 'Monday', 'Thursday', 'Saturday', 'Thursday',\n",
      "       'Sunday', 'Wednesday'],\n",
      "      dtype='object')\n",
      "Month : Int64Index([1, 2, 3, 4, 5, 7, 8, 9], dtype='int64')\n",
      "Year: Int64Index([2021, 2021, 2021, 2021, 2021, 2021, 2021, 2021], dtype='int64')\n",
      "Days in month: Int64Index([31, 28, 31, 30, 31, 31, 31, 30], dtype='int64')\n",
      "Quarter: Int64Index([1, 1, 1, 2, 2, 3, 3, 3], dtype='int64')\n",
      "Quarter start: [ True False False  True False  True False False]\n",
      "Leap Year: [False False False False False False False False]\n",
      "Month Start: [ True  True  True  True  True  True  True  True]\n",
      "Month End: [False False False False False False False False]\n",
      "Year Start: [ True False False False False False False False]\n"
     ]
    }
   ],
   "source": [
    "print(f'Name of Day: {parsed_dates.day_name()}')\n",
    "print(f'Month : {parsed_dates.month}')\n",
    "print(f'Year: {parsed_dates.year}')\n",
    "print(f'Days in month: {parsed_dates.days_in_month}')\n",
    "print(f'Quarter: {parsed_dates.quarter}')\n",
    "print(f'Quarter start: {parsed_dates.is_quarter_start}')\n",
    "print(f'Leap Year: {parsed_dates.is_leap_year}')\n",
    "print(f'Month Start: {parsed_dates.is_month_start}')\n",
    "print(f'Month End: {parsed_dates.is_month_end}')\n",
    "print(f'Year Start: {parsed_dates.is_year_start}')"
   ]
  },
  {
   "attachments": {},
   "cell_type": "markdown",
   "metadata": {},
   "source": [
    "Setting \"errors = coerce\" will instruct pandas to set any value it could not parse as \"NaT\" (Not a time) indicating a missing value\n",
    "\n"
   ]
  },
  {
   "attachments": {},
   "cell_type": "markdown",
   "metadata": {},
   "source": [
    "##### pandas.date_range()\n",
    "\n",
    "Can be used to provide a DatetimeIndex. Provides a starting date and the number of periods to generate and specifies a daily frequency with D"
   ]
  },
  {
   "cell_type": "code",
   "execution_count": 31,
   "metadata": {},
   "outputs": [
    {
     "data": {
      "text/plain": [
       "DatetimeIndex(['2021-01-01', '2021-01-02', '2021-01-03'], dtype='datetime64[ns]', freq='D')"
      ]
     },
     "execution_count": 31,
     "metadata": {},
     "output_type": "execute_result"
    }
   ],
   "source": [
    "pd.date_range(start='2021-01-01', periods=3, freq='D')"
   ]
  },
  {
   "cell_type": "code",
   "execution_count": 34,
   "metadata": {},
   "outputs": [
    {
     "data": {
      "text/plain": [
       "DatetimeIndex(['2021-01-31', '2021-02-28', '2021-03-31', '2021-04-30',\n",
       "               '2021-05-31', '2021-06-30', '2021-07-31', '2021-08-31',\n",
       "               '2021-09-30', '2021-10-31', '2021-11-30', '2021-12-31',\n",
       "               '2022-01-31', '2022-02-28', '2022-03-31', '2022-04-30',\n",
       "               '2022-05-31', '2022-06-30', '2022-07-31', '2022-08-31',\n",
       "               '2022-09-30', '2022-10-31', '2022-11-30', '2022-12-31',\n",
       "               '2023-01-31', '2023-02-28', '2023-03-31'],\n",
       "              dtype='datetime64[ns]', freq='M')"
      ]
     },
     "execution_count": 34,
     "metadata": {},
     "output_type": "execute_result"
    }
   ],
   "source": [
    "pd.date_range(start='2021-01-01', end='2023-03-31', freq='M')"
   ]
  },
  {
   "attachments": {},
   "cell_type": "markdown",
   "metadata": {},
   "source": [
    "#### Providing a format argument to DateTime \n",
    "\n",
    "* strptime\n",
    "* strftime"
   ]
  },
  {
   "cell_type": "code",
   "execution_count": 44,
   "metadata": {},
   "outputs": [
    {
     "data": {
      "text/plain": [
       "datetime.datetime(2022, 1, 1, 0, 0)"
      ]
     },
     "execution_count": 44,
     "metadata": {},
     "output_type": "execute_result"
    }
   ],
   "source": [
    "#dt.datetime.strptime('1/1/2022', '%m/%d/%Y')\n",
    "#dt.datetime.strptime('1 January, 2022', '%d %B, %Y')\n",
    "#dt.datetime.strptime('1-Jan-2022', '%d-%b-%Y')\n",
    "dt.datetime.strptime('Saturday, January 1, 2022', '%A, %B %d, %Y')"
   ]
  },
  {
   "cell_type": "code",
   "execution_count": 45,
   "metadata": {},
   "outputs": [
    {
     "data": {
      "text/plain": [
       "datetime.date(2022, 1, 1)"
      ]
     },
     "execution_count": 45,
     "metadata": {},
     "output_type": "execute_result"
    }
   ],
   "source": [
    "# Specify only the date representation \n",
    "dt.datetime.strptime('1/1/2022', '%m/%d/%Y').date()"
   ]
  },
  {
   "cell_type": "code",
   "execution_count": 47,
   "metadata": {},
   "outputs": [
    {
     "data": {
      "text/plain": [
       "datetime.datetime(2022, 1, 1, 0, 0)"
      ]
     },
     "execution_count": 47,
     "metadata": {},
     "output_type": "execute_result"
    }
   ],
   "source": [
    "dt_1 = dt.datetime.strptime('1/1/2022', '%m/%d/%Y')\n",
    "dt_1 "
   ]
  },
  {
   "attachments": {},
   "cell_type": "markdown",
   "metadata": {},
   "source": [
    "Similarly we can get the string (readable) representation of the Timestamp object using the print() function"
   ]
  },
  {
   "cell_type": "code",
   "execution_count": 49,
   "metadata": {},
   "outputs": [
    {
     "data": {
      "text/plain": [
       "Timestamp('2022-01-01 00:00:00')"
      ]
     },
     "execution_count": 49,
     "metadata": {},
     "output_type": "execute_result"
    }
   ],
   "source": [
    "dt_2 = pd.to_datetime('1/1/2022', format='%m/%d/%Y')\n",
    "dt_2 "
   ]
  },
  {
   "attachments": {},
   "cell_type": "markdown",
   "metadata": {},
   "source": [
    "There is an advantage in using pandas.to_datetime() over Python's datetime module. The to_datetime() function can parse a variety of date representations, including string date formats with minimal input or specifications. The following code explains this concept: "
   ]
  },
  {
   "cell_type": "code",
   "execution_count": 50,
   "metadata": {},
   "outputs": [
    {
     "data": {
      "text/plain": [
       "Timestamp('2022-01-01 00:00:00')"
      ]
     },
     "execution_count": 50,
     "metadata": {},
     "output_type": "execute_result"
    }
   ],
   "source": [
    "pd.to_datetime('Saturday, January 1, 2022')"
   ]
  },
  {
   "cell_type": "code",
   "execution_count": 51,
   "metadata": {},
   "outputs": [
    {
     "data": {
      "text/plain": [
       "Timestamp('2022-01-01 00:00:00')"
      ]
     },
     "execution_count": 51,
     "metadata": {},
     "output_type": "execute_result"
    }
   ],
   "source": [
    "pd.to_datetime('1-Jan-2022') "
   ]
  },
  {
   "attachments": {},
   "cell_type": "markdown",
   "metadata": {},
   "source": [
    "* %d: indicates that the first value is a zero-padded digit representating the day of the month, followed by a space to display spacing between the digit and the next object\n",
    "* %B: is used to indicate that the second value represents the moonth's full name! Note, that this was followed by a comma, to describe the exact format in the strings we are parsing to include any commas, hyphens, backslashes, spaces or whichever separator characters are used\n",
    "* To adhere to the string format, there is a space after the comma, followed by %Y to reflect the last value represents a four-digit year\n",
    "\n",
    "%y = the year 2022 without the century, so the result will be: 22\n",
    "%Y = the year 2022 without the century, so the result will be: 2022"
   ]
  },
  {
   "cell_type": "code",
   "execution_count": 64,
   "metadata": {},
   "outputs": [
    {
     "name": "stdout",
     "output_type": "stream",
     "text": [
      "<class 'pandas.core.frame.DataFrame'>\n",
      "RangeIndex: 3 entries, 0 to 2\n",
      "Data columns (total 2 columns):\n",
      " #   Column  Non-Null Count  Dtype \n",
      "---  ------  --------------  ----- \n",
      " 0   Date    3 non-null      object\n",
      " 1   Sales   3 non-null      int64 \n",
      "dtypes: int64(1), object(1)\n",
      "memory usage: 176.0+ bytes\n"
     ]
    }
   ],
   "source": [
    "# Example: transform a DataFrame column that contains date information in string format to a datetime data type\n",
    "\n",
    "# a = np.arange(100)\n",
    "# b = np.arange(100)\n",
    "# c = np.arange(100)\n",
    "\n",
    "df = pd.DataFrame(\n",
    "    {'Date': ['January 1, 2022', 'January 2, 2022', 'January 3, 2022'],\n",
    "     'Sales': [23000, 19020, 21000]}\n",
    ")\n",
    "\n",
    "df.info()"
   ]
  },
  {
   "attachments": {},
   "cell_type": "markdown",
   "metadata": {},
   "source": [
    "To update the DataFrame to include a DatetimeIndex, we will parse the \"Date\" column to datetime and then assign it as an index to the DataFrame:"
   ]
  },
  {
   "cell_type": "code",
   "execution_count": 65,
   "metadata": {},
   "outputs": [
    {
     "name": "stdout",
     "output_type": "stream",
     "text": [
      "<class 'pandas.core.frame.DataFrame'>\n",
      "DatetimeIndex: 3 entries, 2022-01-01 to 2022-01-03\n",
      "Data columns (total 1 columns):\n",
      " #   Column  Non-Null Count  Dtype\n",
      "---  ------  --------------  -----\n",
      " 0   Sales   3 non-null      int64\n",
      "dtypes: int64(1)\n",
      "memory usage: 48.0 bytes\n"
     ]
    }
   ],
   "source": [
    "df['Date'] = pd.to_datetime(df['Date'])\n",
    "df.set_index('Date', inplace=True)\n",
    "df.info()"
   ]
  },
  {
   "attachments": {},
   "cell_type": "markdown",
   "metadata": {},
   "source": [
    "## Working with Unix epoch timestamps "
   ]
  },
  {
   "attachments": {},
   "cell_type": "markdown",
   "metadata": {},
   "source": [
    "...."
   ]
  },
  {
   "attachments": {},
   "cell_type": "markdown",
   "metadata": {},
   "source": [
    "## Working with time deltas "
   ]
  },
  {
   "cell_type": "code",
   "execution_count": 68,
   "metadata": {},
   "outputs": [
    {
     "data": {
      "text/html": [
       "<div>\n",
       "<style scoped>\n",
       "    .dataframe tbody tr th:only-of-type {\n",
       "        vertical-align: middle;\n",
       "    }\n",
       "\n",
       "    .dataframe tbody tr th {\n",
       "        vertical-align: top;\n",
       "    }\n",
       "\n",
       "    .dataframe thead th {\n",
       "        text-align: right;\n",
       "    }\n",
       "</style>\n",
       "<table border=\"1\" class=\"dataframe\">\n",
       "  <thead>\n",
       "    <tr style=\"text-align: right;\">\n",
       "      <th></th>\n",
       "      <th>item</th>\n",
       "      <th>purchase_dt</th>\n",
       "    </tr>\n",
       "  </thead>\n",
       "  <tbody>\n",
       "    <tr>\n",
       "      <th>0</th>\n",
       "      <td>item1</td>\n",
       "      <td>2021-01-01 00:00:00+00:00</td>\n",
       "    </tr>\n",
       "    <tr>\n",
       "      <th>1</th>\n",
       "      <td>item2</td>\n",
       "      <td>2021-01-02 00:00:00+00:00</td>\n",
       "    </tr>\n",
       "    <tr>\n",
       "      <th>2</th>\n",
       "      <td>item3</td>\n",
       "      <td>2021-01-03 00:00:00+00:00</td>\n",
       "    </tr>\n",
       "    <tr>\n",
       "      <th>3</th>\n",
       "      <td>item4</td>\n",
       "      <td>2021-01-04 00:00:00+00:00</td>\n",
       "    </tr>\n",
       "    <tr>\n",
       "      <th>4</th>\n",
       "      <td>item5</td>\n",
       "      <td>2021-01-05 00:00:00+00:00</td>\n",
       "    </tr>\n",
       "    <tr>\n",
       "      <th>5</th>\n",
       "      <td>item6</td>\n",
       "      <td>2021-01-06 00:00:00+00:00</td>\n",
       "    </tr>\n",
       "  </tbody>\n",
       "</table>\n",
       "</div>"
      ],
      "text/plain": [
       "    item               purchase_dt\n",
       "0  item1 2021-01-01 00:00:00+00:00\n",
       "1  item2 2021-01-02 00:00:00+00:00\n",
       "2  item3 2021-01-03 00:00:00+00:00\n",
       "3  item4 2021-01-04 00:00:00+00:00\n",
       "4  item5 2021-01-05 00:00:00+00:00\n",
       "5  item6 2021-01-06 00:00:00+00:00"
      ]
     },
     "execution_count": 68,
     "metadata": {},
     "output_type": "execute_result"
    }
   ],
   "source": [
    "df_delta = pd.DataFrame({\n",
    "    'item': ['item1', 'item2', 'item3', 'item4', 'item5', 'item6'],\n",
    "    'purchase_dt': pd.date_range('2021-01-01', periods=6, freq='D', tz='UTC')\n",
    "})\n",
    "\n",
    "df_delta \n"
   ]
  },
  {
   "cell_type": "code",
   "execution_count": 70,
   "metadata": {},
   "outputs": [
    {
     "data": {
      "text/html": [
       "<div>\n",
       "<style scoped>\n",
       "    .dataframe tbody tr th:only-of-type {\n",
       "        vertical-align: middle;\n",
       "    }\n",
       "\n",
       "    .dataframe tbody tr th {\n",
       "        vertical-align: top;\n",
       "    }\n",
       "\n",
       "    .dataframe thead th {\n",
       "        text-align: right;\n",
       "    }\n",
       "</style>\n",
       "<table border=\"1\" class=\"dataframe\">\n",
       "  <thead>\n",
       "    <tr style=\"text-align: right;\">\n",
       "      <th></th>\n",
       "      <th>item</th>\n",
       "      <th>purchase_dt</th>\n",
       "      <th>expiration_dt</th>\n",
       "    </tr>\n",
       "  </thead>\n",
       "  <tbody>\n",
       "    <tr>\n",
       "      <th>0</th>\n",
       "      <td>item1</td>\n",
       "      <td>2021-01-01 00:00:00+00:00</td>\n",
       "      <td>2021-01-31 00:00:00+00:00</td>\n",
       "    </tr>\n",
       "    <tr>\n",
       "      <th>1</th>\n",
       "      <td>item2</td>\n",
       "      <td>2021-01-02 00:00:00+00:00</td>\n",
       "      <td>2021-02-01 00:00:00+00:00</td>\n",
       "    </tr>\n",
       "    <tr>\n",
       "      <th>2</th>\n",
       "      <td>item3</td>\n",
       "      <td>2021-01-03 00:00:00+00:00</td>\n",
       "      <td>2021-02-02 00:00:00+00:00</td>\n",
       "    </tr>\n",
       "    <tr>\n",
       "      <th>3</th>\n",
       "      <td>item4</td>\n",
       "      <td>2021-01-04 00:00:00+00:00</td>\n",
       "      <td>2021-02-03 00:00:00+00:00</td>\n",
       "    </tr>\n",
       "    <tr>\n",
       "      <th>4</th>\n",
       "      <td>item5</td>\n",
       "      <td>2021-01-05 00:00:00+00:00</td>\n",
       "      <td>2021-02-04 00:00:00+00:00</td>\n",
       "    </tr>\n",
       "    <tr>\n",
       "      <th>5</th>\n",
       "      <td>item6</td>\n",
       "      <td>2021-01-06 00:00:00+00:00</td>\n",
       "      <td>2021-02-05 00:00:00+00:00</td>\n",
       "    </tr>\n",
       "  </tbody>\n",
       "</table>\n",
       "</div>"
      ],
      "text/plain": [
       "    item               purchase_dt             expiration_dt\n",
       "0  item1 2021-01-01 00:00:00+00:00 2021-01-31 00:00:00+00:00\n",
       "1  item2 2021-01-02 00:00:00+00:00 2021-02-01 00:00:00+00:00\n",
       "2  item3 2021-01-03 00:00:00+00:00 2021-02-02 00:00:00+00:00\n",
       "3  item4 2021-01-04 00:00:00+00:00 2021-02-03 00:00:00+00:00\n",
       "4  item5 2021-01-05 00:00:00+00:00 2021-02-04 00:00:00+00:00\n",
       "5  item6 2021-01-06 00:00:00+00:00 2021-02-05 00:00:00+00:00"
      ]
     },
     "execution_count": 70,
     "metadata": {},
     "output_type": "execute_result"
    }
   ],
   "source": [
    "# Add another datetime column to represent the expiration date, which is 30 days from the purchase date:\n",
    "\n",
    "df_delta['expiration_dt'] = df['purchase_dt'] + pd.Timedelta(days=30)\n",
    "df_delta"
   ]
  },
  {
   "cell_type": "code",
   "execution_count": 75,
   "metadata": {},
   "outputs": [
    {
     "data": {
      "text/html": [
       "<div>\n",
       "<style scoped>\n",
       "    .dataframe tbody tr th:only-of-type {\n",
       "        vertical-align: middle;\n",
       "    }\n",
       "\n",
       "    .dataframe tbody tr th {\n",
       "        vertical-align: top;\n",
       "    }\n",
       "\n",
       "    .dataframe thead th {\n",
       "        text-align: right;\n",
       "    }\n",
       "</style>\n",
       "<table border=\"1\" class=\"dataframe\">\n",
       "  <thead>\n",
       "    <tr style=\"text-align: right;\">\n",
       "      <th></th>\n",
       "      <th>item</th>\n",
       "      <th>purchase_dt</th>\n",
       "      <th>expiration_dt</th>\n",
       "      <th>extended_dt</th>\n",
       "    </tr>\n",
       "  </thead>\n",
       "  <tbody>\n",
       "    <tr>\n",
       "      <th>0</th>\n",
       "      <td>item1</td>\n",
       "      <td>2021-01-01 00:00:00+00:00</td>\n",
       "      <td>2021-01-31 00:00:00+00:00</td>\n",
       "      <td>2021-02-05 12:30:00+00:00</td>\n",
       "    </tr>\n",
       "    <tr>\n",
       "      <th>1</th>\n",
       "      <td>item2</td>\n",
       "      <td>2021-01-02 00:00:00+00:00</td>\n",
       "      <td>2021-02-01 00:00:00+00:00</td>\n",
       "      <td>2021-02-06 12:30:00+00:00</td>\n",
       "    </tr>\n",
       "    <tr>\n",
       "      <th>2</th>\n",
       "      <td>item3</td>\n",
       "      <td>2021-01-03 00:00:00+00:00</td>\n",
       "      <td>2021-02-02 00:00:00+00:00</td>\n",
       "      <td>2021-02-07 12:30:00+00:00</td>\n",
       "    </tr>\n",
       "    <tr>\n",
       "      <th>3</th>\n",
       "      <td>item4</td>\n",
       "      <td>2021-01-04 00:00:00+00:00</td>\n",
       "      <td>2021-02-03 00:00:00+00:00</td>\n",
       "      <td>2021-02-08 12:30:00+00:00</td>\n",
       "    </tr>\n",
       "    <tr>\n",
       "      <th>4</th>\n",
       "      <td>item5</td>\n",
       "      <td>2021-01-05 00:00:00+00:00</td>\n",
       "      <td>2021-02-04 00:00:00+00:00</td>\n",
       "      <td>2021-02-09 12:30:00+00:00</td>\n",
       "    </tr>\n",
       "    <tr>\n",
       "      <th>5</th>\n",
       "      <td>item6</td>\n",
       "      <td>2021-01-06 00:00:00+00:00</td>\n",
       "      <td>2021-02-05 00:00:00+00:00</td>\n",
       "      <td>2021-02-10 12:30:00+00:00</td>\n",
       "    </tr>\n",
       "  </tbody>\n",
       "</table>\n",
       "</div>"
      ],
      "text/plain": [
       "    item               purchase_dt             expiration_dt  \\\n",
       "0  item1 2021-01-01 00:00:00+00:00 2021-01-31 00:00:00+00:00   \n",
       "1  item2 2021-01-02 00:00:00+00:00 2021-02-01 00:00:00+00:00   \n",
       "2  item3 2021-01-03 00:00:00+00:00 2021-02-02 00:00:00+00:00   \n",
       "3  item4 2021-01-04 00:00:00+00:00 2021-02-03 00:00:00+00:00   \n",
       "4  item5 2021-01-05 00:00:00+00:00 2021-02-04 00:00:00+00:00   \n",
       "5  item6 2021-01-06 00:00:00+00:00 2021-02-05 00:00:00+00:00   \n",
       "\n",
       "                extended_dt  \n",
       "0 2021-02-05 12:30:00+00:00  \n",
       "1 2021-02-06 12:30:00+00:00  \n",
       "2 2021-02-07 12:30:00+00:00  \n",
       "3 2021-02-08 12:30:00+00:00  \n",
       "4 2021-02-09 12:30:00+00:00  \n",
       "5 2021-02-10 12:30:00+00:00  "
      ]
     },
     "execution_count": 75,
     "metadata": {},
     "output_type": "execute_result"
    }
   ],
   "source": [
    "# Assume we are asked to create a special extended date for return, and this one is set at 35 days, 12 hours and 30 minutes from the purchase date: \n",
    "df_delta['extended_dt'] = df_delta['purchase_dt'] + pd.Timedelta('35 days 12 hours 30 minutes') \n",
    "df_delta"
   ]
  },
  {
   "cell_type": "code",
   "execution_count": 78,
   "metadata": {},
   "outputs": [
    {
     "data": {
      "text/html": [
       "<div>\n",
       "<style scoped>\n",
       "    .dataframe tbody tr th:only-of-type {\n",
       "        vertical-align: middle;\n",
       "    }\n",
       "\n",
       "    .dataframe tbody tr th {\n",
       "        vertical-align: top;\n",
       "    }\n",
       "\n",
       "    .dataframe thead th {\n",
       "        text-align: right;\n",
       "    }\n",
       "</style>\n",
       "<table border=\"1\" class=\"dataframe\">\n",
       "  <thead>\n",
       "    <tr style=\"text-align: right;\">\n",
       "      <th></th>\n",
       "      <th>item</th>\n",
       "      <th>purchase_dt</th>\n",
       "      <th>expiration_dt</th>\n",
       "      <th>extended_dt</th>\n",
       "    </tr>\n",
       "  </thead>\n",
       "  <tbody>\n",
       "    <tr>\n",
       "      <th>0</th>\n",
       "      <td>item1</td>\n",
       "      <td>2020-12-31 16:00:00-08:00</td>\n",
       "      <td>2021-01-30 16:00:00-08:00</td>\n",
       "      <td>2021-02-05 04:30:00-08:00</td>\n",
       "    </tr>\n",
       "    <tr>\n",
       "      <th>1</th>\n",
       "      <td>item2</td>\n",
       "      <td>2021-01-01 16:00:00-08:00</td>\n",
       "      <td>2021-01-31 16:00:00-08:00</td>\n",
       "      <td>2021-02-06 04:30:00-08:00</td>\n",
       "    </tr>\n",
       "    <tr>\n",
       "      <th>2</th>\n",
       "      <td>item3</td>\n",
       "      <td>2021-01-02 16:00:00-08:00</td>\n",
       "      <td>2021-02-01 16:00:00-08:00</td>\n",
       "      <td>2021-02-07 04:30:00-08:00</td>\n",
       "    </tr>\n",
       "    <tr>\n",
       "      <th>3</th>\n",
       "      <td>item4</td>\n",
       "      <td>2021-01-03 16:00:00-08:00</td>\n",
       "      <td>2021-02-02 16:00:00-08:00</td>\n",
       "      <td>2021-02-08 04:30:00-08:00</td>\n",
       "    </tr>\n",
       "    <tr>\n",
       "      <th>4</th>\n",
       "      <td>item5</td>\n",
       "      <td>2021-01-04 16:00:00-08:00</td>\n",
       "      <td>2021-02-03 16:00:00-08:00</td>\n",
       "      <td>2021-02-09 04:30:00-08:00</td>\n",
       "    </tr>\n",
       "    <tr>\n",
       "      <th>5</th>\n",
       "      <td>item6</td>\n",
       "      <td>2021-01-05 16:00:00-08:00</td>\n",
       "      <td>2021-02-04 16:00:00-08:00</td>\n",
       "      <td>2021-02-10 04:30:00-08:00</td>\n",
       "    </tr>\n",
       "  </tbody>\n",
       "</table>\n",
       "</div>"
      ],
      "text/plain": [
       "    item               purchase_dt             expiration_dt  \\\n",
       "0  item1 2020-12-31 16:00:00-08:00 2021-01-30 16:00:00-08:00   \n",
       "1  item2 2021-01-01 16:00:00-08:00 2021-01-31 16:00:00-08:00   \n",
       "2  item3 2021-01-02 16:00:00-08:00 2021-02-01 16:00:00-08:00   \n",
       "3  item4 2021-01-03 16:00:00-08:00 2021-02-02 16:00:00-08:00   \n",
       "4  item5 2021-01-04 16:00:00-08:00 2021-02-03 16:00:00-08:00   \n",
       "5  item6 2021-01-05 16:00:00-08:00 2021-02-04 16:00:00-08:00   \n",
       "\n",
       "                extended_dt  \n",
       "0 2021-02-05 04:30:00-08:00  \n",
       "1 2021-02-06 04:30:00-08:00  \n",
       "2 2021-02-07 04:30:00-08:00  \n",
       "3 2021-02-08 04:30:00-08:00  \n",
       "4 2021-02-09 04:30:00-08:00  \n",
       "5 2021-02-10 04:30:00-08:00  "
      ]
     },
     "execution_count": 78,
     "metadata": {},
     "output_type": "execute_result"
    }
   ],
   "source": [
    "# Assume that we are asked to convert the time zone from UTC to the local time zone of the retailer store's headquarters, which is set in LA:\n",
    "df_delta.iloc[:,1:] = df_delta.iloc[:, 1:].apply(lambda x: x.dt.tz_convert('US/Pacific'))\n",
    "df_delta"
   ]
  },
  {
   "cell_type": "code",
   "execution_count": 81,
   "metadata": {},
   "outputs": [
    {
     "data": {
      "text/html": [
       "<div>\n",
       "<style scoped>\n",
       "    .dataframe tbody tr th:only-of-type {\n",
       "        vertical-align: middle;\n",
       "    }\n",
       "\n",
       "    .dataframe tbody tr th {\n",
       "        vertical-align: top;\n",
       "    }\n",
       "\n",
       "    .dataframe thead th {\n",
       "        text-align: right;\n",
       "    }\n",
       "</style>\n",
       "<table border=\"1\" class=\"dataframe\">\n",
       "  <thead>\n",
       "    <tr style=\"text-align: right;\">\n",
       "      <th></th>\n",
       "      <th>item</th>\n",
       "      <th>purchase_dt</th>\n",
       "      <th>expiration_dt</th>\n",
       "      <th>extended_dt</th>\n",
       "      <th>exp_ext_diff</th>\n",
       "    </tr>\n",
       "  </thead>\n",
       "  <tbody>\n",
       "    <tr>\n",
       "      <th>0</th>\n",
       "      <td>item1</td>\n",
       "      <td>2020-12-31 16:00:00-08:00</td>\n",
       "      <td>2021-01-30 16:00:00-08:00</td>\n",
       "      <td>2021-02-05 04:30:00-08:00</td>\n",
       "      <td>5 days 12:30:00</td>\n",
       "    </tr>\n",
       "    <tr>\n",
       "      <th>1</th>\n",
       "      <td>item2</td>\n",
       "      <td>2021-01-01 16:00:00-08:00</td>\n",
       "      <td>2021-01-31 16:00:00-08:00</td>\n",
       "      <td>2021-02-06 04:30:00-08:00</td>\n",
       "      <td>5 days 12:30:00</td>\n",
       "    </tr>\n",
       "    <tr>\n",
       "      <th>2</th>\n",
       "      <td>item3</td>\n",
       "      <td>2021-01-02 16:00:00-08:00</td>\n",
       "      <td>2021-02-01 16:00:00-08:00</td>\n",
       "      <td>2021-02-07 04:30:00-08:00</td>\n",
       "      <td>5 days 12:30:00</td>\n",
       "    </tr>\n",
       "    <tr>\n",
       "      <th>3</th>\n",
       "      <td>item4</td>\n",
       "      <td>2021-01-03 16:00:00-08:00</td>\n",
       "      <td>2021-02-02 16:00:00-08:00</td>\n",
       "      <td>2021-02-08 04:30:00-08:00</td>\n",
       "      <td>5 days 12:30:00</td>\n",
       "    </tr>\n",
       "    <tr>\n",
       "      <th>4</th>\n",
       "      <td>item5</td>\n",
       "      <td>2021-01-04 16:00:00-08:00</td>\n",
       "      <td>2021-02-03 16:00:00-08:00</td>\n",
       "      <td>2021-02-09 04:30:00-08:00</td>\n",
       "      <td>5 days 12:30:00</td>\n",
       "    </tr>\n",
       "    <tr>\n",
       "      <th>5</th>\n",
       "      <td>item6</td>\n",
       "      <td>2021-01-05 16:00:00-08:00</td>\n",
       "      <td>2021-02-04 16:00:00-08:00</td>\n",
       "      <td>2021-02-10 04:30:00-08:00</td>\n",
       "      <td>5 days 12:30:00</td>\n",
       "    </tr>\n",
       "  </tbody>\n",
       "</table>\n",
       "</div>"
      ],
      "text/plain": [
       "    item               purchase_dt             expiration_dt  \\\n",
       "0  item1 2020-12-31 16:00:00-08:00 2021-01-30 16:00:00-08:00   \n",
       "1  item2 2021-01-01 16:00:00-08:00 2021-01-31 16:00:00-08:00   \n",
       "2  item3 2021-01-02 16:00:00-08:00 2021-02-01 16:00:00-08:00   \n",
       "3  item4 2021-01-03 16:00:00-08:00 2021-02-02 16:00:00-08:00   \n",
       "4  item5 2021-01-04 16:00:00-08:00 2021-02-03 16:00:00-08:00   \n",
       "5  item6 2021-01-05 16:00:00-08:00 2021-02-04 16:00:00-08:00   \n",
       "\n",
       "                extended_dt    exp_ext_diff  \n",
       "0 2021-02-05 04:30:00-08:00 5 days 12:30:00  \n",
       "1 2021-02-06 04:30:00-08:00 5 days 12:30:00  \n",
       "2 2021-02-07 04:30:00-08:00 5 days 12:30:00  \n",
       "3 2021-02-08 04:30:00-08:00 5 days 12:30:00  \n",
       "4 2021-02-09 04:30:00-08:00 5 days 12:30:00  \n",
       "5 2021-02-10 04:30:00-08:00 5 days 12:30:00  "
      ]
     },
     "execution_count": 81,
     "metadata": {},
     "output_type": "execute_result"
    }
   ],
   "source": [
    "# Finally we can calculate the delta between the extended and original expiration dates. Since they are both datetiem data types, we can achieve this with a simple subtraction between the columns\n",
    "df_delta['exp_ext_diff'] = (df_delta['extended_dt'] - df_delta['expiration_dt'])\n",
    "df_delta"
   ]
  },
  {
   "cell_type": "code",
   "execution_count": 87,
   "metadata": {},
   "outputs": [
    {
     "data": {
      "text/plain": [
       "Timestamp('2022-01-08 00:00:00')"
      ]
     },
     "execution_count": 87,
     "metadata": {},
     "output_type": "execute_result"
    }
   ],
   "source": [
    "#pd.Timedelta(days=1, hours=12, minutes=55)\n",
    "#pd.Timedelta('1 days 12:55:00')\n",
    "#pd.Timedelta('1D 12H 55T')\n",
    "\n",
    "#week_td = pd.Timedelta('1W')\n",
    "#pd.to_datetime('1 JAN 2022') + week_td\n",
    "\n",
    "\n"
   ]
  },
  {
   "attachments": {},
   "cell_type": "markdown",
   "metadata": {},
   "source": [
    "## Converting DateTime with time zone information "
   ]
  },
  {
   "cell_type": "code",
   "execution_count": null,
   "metadata": {},
   "outputs": [],
   "source": []
  }
 ],
 "metadata": {
  "kernelspec": {
   "display_name": ".venv",
   "language": "python",
   "name": "python3"
  },
  "language_info": {
   "codemirror_mode": {
    "name": "ipython",
    "version": 3
   },
   "file_extension": ".py",
   "mimetype": "text/x-python",
   "name": "python",
   "nbconvert_exporter": "python",
   "pygments_lexer": "ipython3",
   "version": "3.10.0"
  },
  "orig_nbformat": 4
 },
 "nbformat": 4,
 "nbformat_minor": 2
}
